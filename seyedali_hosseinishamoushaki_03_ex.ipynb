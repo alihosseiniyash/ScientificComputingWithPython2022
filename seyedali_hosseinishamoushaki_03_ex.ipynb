{
 "cells": [
  {
   "cell_type": "markdown",
   "id": "52327224",
   "metadata": {},
   "source": [
    "# 03ex_numberRepresentation"
   ]
  },
  {
   "cell_type": "code",
   "execution_count": 1,
   "id": "0be8dc9c",
   "metadata": {},
   "outputs": [
    {
     "name": "stdout",
     "output_type": "stream",
     "text": [
      "('0b11111001011', 1995, '0x7cb')\n",
      "('0b10101110', 174, '0xae')\n"
     ]
    }
   ],
   "source": [
    "# 1. Number representation\n",
    "\n",
    "\n",
    "def bin_dec_hex(inpu):\n",
    "    if int(inpu):\n",
    "        integer = int(inpu)\n",
    "        \n",
    "    if bin(inpu):\n",
    "        bin_ = bin(inpu) \n",
    "        \n",
    "    if hex(inpu):\n",
    "        hex_ = hex(inpu)\n",
    "        \n",
    "    return (bin_,integer,hex_)\n",
    "\n",
    "\n",
    "print(bin_dec_hex(1995))\n",
    "print(bin_dec_hex(0b10101110))"
   ]
  },
  {
   "cell_type": "code",
   "execution_count": 2,
   "id": "0f01ed75",
   "metadata": {},
   "outputs": [
    {
     "data": {
      "text/plain": [
       "(1, '10000000', '00100000000000000000000')"
      ]
     },
     "execution_count": 2,
     "metadata": {},
     "output_type": "execute_result"
    }
   ],
   "source": [
    "# 2. 32-bit floating point number\n",
    "\n",
    "\n",
    "def binaryOfFraction(fraction):\n",
    "    binary = str()\n",
    "    \n",
    "    while (fraction):\n",
    "        fraction = fraction*2\n",
    "        if (fraction >= 1):\n",
    "            int_part = 1\n",
    "            fraction -= 1\n",
    "        else:\n",
    "            int_part = 0\n",
    "\n",
    "        binary += str(int_part)\n",
    "\n",
    "    return binary\n",
    "\n",
    "\n",
    "def floatingPoint(real_no):\n",
    "    sign_bit = 0\n",
    "    \n",
    "    if(real_no < 0):\n",
    "        sign_bit = 1\n",
    "\n",
    "    real_no = abs(real_no)\n",
    "    int_str = bin(int(real_no))[2:]\n",
    "    fraction_str = binaryOfFraction(real_no - int(real_no))\n",
    "    ind = int_str.index('1')\n",
    "    exp_str = bin((len(int_str) - ind - 1) + 127)[2:]\n",
    "    mant_str = int_str[ind + 1 : ] + fraction_str\n",
    "    mant_str = mant_str + ('0' * (23 - len(mant_str)))\n",
    "    return sign_bit, exp_str, mant_str\n",
    "\n",
    "floatingPoint(-2.250000)"
   ]
  },
  {
   "cell_type": "code",
   "execution_count": 3,
   "id": "7f82f5c3",
   "metadata": {},
   "outputs": [
    {
     "name": "stdout",
     "output_type": "stream",
     "text": [
      "sys.float_info(max=1.7976931348623157e+308, max_exp=1024, max_10_exp=308, min=2.2250738585072014e-308, min_exp=-1021, min_10_exp=-307, dig=15, mant_dig=53, epsilon=2.220446049250313e-16, radix=2, rounds=1)\n"
     ]
    },
    {
     "data": {
      "text/plain": [
       "2147483648"
      ]
     },
     "execution_count": 3,
     "metadata": {},
     "output_type": "execute_result"
    }
   ],
   "source": [
    "# 3. Underflow and overflow\n",
    "\n",
    "\n",
    "import sys\n",
    "import numpy as np\n",
    "print(sys.float_info)\n",
    "\n",
    "a = np.array([2**31-1], dtype=int)   \n",
    "a[0]+1\n",
    "\n"
   ]
  },
  {
   "cell_type": "code",
   "execution_count": 4,
   "id": "b35f71cd",
   "metadata": {},
   "outputs": [
    {
     "name": "stdout",
     "output_type": "stream",
     "text": [
      "1.1102230246251565e-16\n",
      "3.0\n"
     ]
    }
   ],
   "source": [
    "# 4. Machine precision\n",
    "\n",
    "\n",
    "small_variable = 1.\n",
    "big_variable = 1.\n",
    "while small_variable + big_variable > big_variable:\n",
    "    #gets smaller and smaller till it doesnt\n",
    "    big_variable+=small_variable\n",
    "    small_variable=small_variable/2\n",
    "    \n",
    "print(small_variable)\n",
    "print(big_variable)"
   ]
  },
  {
   "cell_type": "code",
   "execution_count": 6,
   "id": "d6ac5a0f",
   "metadata": {},
   "outputs": [
    {
     "name": "stdout",
     "output_type": "stream",
     "text": [
      "Math Domain Error No Real number solutions(Discriminant is negative). Try complex function\n",
      "((-0.076-0.23499787233079367j), (-0.076+0.23499787233079367j))\n"
     ]
    }
   ],
   "source": [
    "# 5. Quadratic solution\n",
    "\n",
    "\n",
    "import math\n",
    "import cmath\n",
    "\n",
    "def solution(a,b,c):\n",
    "    dis = b * b - 4 * a * c    \n",
    "    ans1 = (-b-math.sqrt(dis))/(2 * a)\n",
    "    ans2 = (-b + math.sqrt(dis))/(2 * a)\n",
    "    return (ans1,ans2)\n",
    "    \n",
    "##A a=0.001; b = 1000; c=0.001\n",
    "def solution_v2(a,b,c):\n",
    "    dis = b * b - 4 * a * c     \n",
    "    ans1 = (-b-cmath.sqrt(dis))/(2*a)\n",
    "    ans2 = (-b+cmath.sqrt(dis))/(2*a)\n",
    "    return (ans1,ans2)\n",
    "\n",
    "try:\n",
    "    print(solution(1000,152,61))\n",
    "except:\n",
    "    print(\"Math Domain Error No Real number solutions(Discriminant is negative). Try complex function\")\n",
    "\n",
    "print(solution_v2(1000,152,61))"
   ]
  },
  {
   "cell_type": "code",
   "execution_count": 7,
   "id": "942e1c12",
   "metadata": {},
   "outputs": [
    {
     "name": "stdout",
     "output_type": "stream",
     "text": [
      "derivative definition with 𝛿=10^-2:-----> 1.010000000000001\n",
      "For 𝛿=10^-2 :  1.010000000000001\n",
      "For 𝛿=10^-4 :  1.0000999999998899\n",
      "For 𝛿=10^-6 :  1.0000009999177333\n",
      "For 𝛿=10^-8 :  1.0000000039225287\n",
      "For 𝛿=10^-10 :  1.000000082840371\n",
      "For 𝛿=10^-12 :  1.0000889005833413\n",
      "For 𝛿=10^-14 :  0.9992007221626509\n"
     ]
    }
   ],
   "source": [
    "# 6. The derivative\n",
    "\n",
    "\n",
    "#6A\n",
    "def f(x):\n",
    "    return x*(x-1)\n",
    "\n",
    "\n",
    "print(\"derivative definition with 𝛿=10^-2:-----> \"+str((f(1+10**-2)-f(1))/10**-2))\n",
    "\n",
    "\n",
    "\n",
    "#6B\n",
    "for i in range(-2,-16,-2):\n",
    "    print(f\"For 𝛿=10^{i} :  \"+str((f(1+10**i)-f(1))/10**i))"
   ]
  },
  {
   "cell_type": "code",
   "execution_count": 8,
   "id": "97b3b6be",
   "metadata": {},
   "outputs": [
    {
     "name": "stdout",
     "output_type": "stream",
     "text": [
      "Difference of 100 sliced val vs. Real value(pi/2) :0.005642020994072627\n",
      "Value of Integral: 1.5707961854706627\n",
      "Total time: 1.0116247939999998 seconds.\n",
      "Total slices: 118100\n",
      "Value of Integral: 1.5707963201743929\n",
      "Total time: 60.033069467000004 seconds.\n",
      "Total slices: 902100\n",
      "Difference time iterated (1 second) vs. Real value(pi/2) :1.4132423387103188e-07\n",
      "Difference time iterated (60 second) vs. Real value(pi/2) :6.620503700816016e-09\n",
      "Accuracy 1 second: %99.99999100301984\n",
      "Accuracy 60 second: %99.99999957852565\n"
     ]
    }
   ],
   "source": [
    "# 7. Integral of a semicircle\n",
    "\n",
    "\n",
    "def riemannint(function,a,b,n):\n",
    "    sumval = 0    \n",
    "    h = (b-a)/n\n",
    "    \n",
    "    for i in range(0,n-1):\n",
    "        current_x = a+i*h\n",
    "        sumval    = sumval + function(current_x) * h\n",
    "    return sumval\n",
    "\n",
    "\n",
    "def f_circle(x):\n",
    "    return (1-x**2)**(1/2)\n",
    "\n",
    "\n",
    "a = riemannint(f_circle,-1,1,100)\n",
    "\n",
    "\n",
    "#7A\n",
    "import math\n",
    "n_100 = riemannint(f_circle,-1,1,100)\n",
    "print(\"Difference of 100 sliced val vs. Real value(pi/2) :\"+ str(math.pi/2 - n_100))\n",
    "\n",
    "\n",
    "import time\n",
    "from time import process_time, sleep\n",
    "\n",
    "\n",
    "start = process_time() #started the counter\n",
    "end = start + 1 #this is just for the while loop\n",
    "time = 1 #time that you want to iterate\n",
    "n = 100 #initialized slice number\n",
    "while time >= end-start:\n",
    "    timed_val_1_sec = riemannint(f_circle,-1,1,n)\n",
    "    n += 1000\n",
    "    end = process_time()\n",
    "    \n",
    "print(\"Value of Integral: \" + str(timed_val_1_sec))\n",
    "print(\"Total time: \" + str(end-start) +\" seconds.\")\n",
    "print(\"Total slices: \"+str(n))\n",
    "\n",
    "\n",
    "start = process_time() #started the counter\n",
    "end = start + 1 #this is just for the while loop\n",
    "time = 60 #time that you want to iterate\n",
    "n = 100 #initialized slice number\n",
    "while time >= end-start:\n",
    "    timed_val_60_sec = riemannint(f_circle,-1,1,n)\n",
    "    n += 1000\n",
    "    end = process_time()\n",
    "    \n",
    "print(\"Value of Integral: \" + str(timed_val_60_sec))\n",
    "print(\"Total time: \" + str(end-start) +\" seconds.\")\n",
    "print(\"Total slices: \"+str(n))\n",
    "\n",
    "\n",
    "\n",
    "#7B\n",
    "#There is 20 times difference \n",
    "#i can't be sure because the value is already close real value after 1 second of iteration here is the comparison\n",
    "print(\"Difference time iterated (1 second) vs. Real value(pi/2) :\"+ str(math.pi/2 - timed_val_1_sec))\n",
    "print(\"Difference time iterated (60 second) vs. Real value(pi/2) :\"+ str(math.pi/2 - timed_val_60_sec))\n",
    "\n",
    "print(\"Accuracy 1 second: %\" + str(timed_val_1_sec/(math.pi/2)*100))\n",
    "print(\"Accuracy 60 second: %\" + str(timed_val_60_sec/(math.pi/2)*100))"
   ]
  },
  {
   "cell_type": "code",
   "execution_count": null,
   "id": "10e19aff",
   "metadata": {},
   "outputs": [],
   "source": []
  }
 ],
 "metadata": {
  "kernelspec": {
   "display_name": "Python 3 (ipykernel)",
   "language": "python",
   "name": "python3"
  },
  "language_info": {
   "codemirror_mode": {
    "name": "ipython",
    "version": 3
   },
   "file_extension": ".py",
   "mimetype": "text/x-python",
   "name": "python",
   "nbconvert_exporter": "python",
   "pygments_lexer": "ipython3",
   "version": "3.9.12"
  }
 },
 "nbformat": 4,
 "nbformat_minor": 5
}
