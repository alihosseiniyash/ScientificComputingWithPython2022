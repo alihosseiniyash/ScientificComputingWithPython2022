{
 "cells": [
  {
   "cell_type": "markdown",
   "id": "bb37c73c",
   "metadata": {},
   "source": [
    "# 02ex_fundamentals\n"
   ]
  },
  {
   "cell_type": "code",
   "execution_count": 10,
   "id": "64014b90",
   "metadata": {},
   "outputs": [
    {
     "name": "stdout",
     "output_type": "stream",
     "text": [
      "[1, 2, 3, 0, 1, 2, 3, 4]\n",
      "[1, 2, 3]\n"
     ]
    }
   ],
   "source": [
    "# 1. Global variables\n",
    "\n",
    "\n",
    "def f_2(alist,x_range):\n",
    "    \n",
    "    temp_list=alist.copy() #this will prevent it from changing\n",
    "                        \n",
    "    \n",
    "    for i in range(x_range):\n",
    "        temp_list.append(i)\n",
    "    return temp_list\n",
    "\n",
    "alist = [1,2,3]\n",
    "ans = f_2(alist,5)\n",
    "print(ans)\n",
    "print(alist)\n"
   ]
  },
  {
   "cell_type": "code",
   "execution_count": 11,
   "id": "57760d77",
   "metadata": {},
   "outputs": [
    {
     "name": "stdout",
     "output_type": "stream",
     "text": [
      "[1, 9, 25, 49, 81]\n"
     ]
    }
   ],
   "source": [
    "# 2. List comprehension\n",
    "\n",
    "\n",
    "a = [x*x for x in range(10) if x % 2 == 1]\n",
    "print(a)"
   ]
  },
  {
   "cell_type": "code",
   "execution_count": 2,
   "id": "c5e8fd59",
   "metadata": {},
   "outputs": [
    {
     "name": "stdout",
     "output_type": "stream",
     "text": [
      "enter the number: 3\n",
      "enter words: ok bye but hi hello no yes\n",
      "['ok', 'hi', 'no']\n"
     ]
    }
   ],
   "source": [
    "# 3. Filter list\n",
    "\n",
    "\n",
    "n = int(input(\"enter the number: \"))\n",
    "a = input(\"enter words: \").split()\n",
    "\n",
    "def filterlongword(string,number):\n",
    "    return filter(lambda word:len(word)<number, string)\n",
    "\n",
    "\n",
    "b = filterlongword(a, n)\n",
    "print(list(b))"
   ]
  },
  {
   "cell_type": "code",
   "execution_count": 3,
   "id": "e857b62b",
   "metadata": {},
   "outputs": [
    {
     "name": "stdout",
     "output_type": "stream",
     "text": [
      "[6, 4, 9, 3]\n"
     ]
    }
   ],
   "source": [
    "# 4. Map dictionary\n",
    "\n",
    "\n",
    "lang = {\"Python\" : 3, \"Java\" : '', \"Cplusplus\" : 'test', \"Php\" : 0.7}\n",
    "a = map(lambda key : len(key), lang.keys())\n",
    "print(list(a))"
   ]
  },
  {
   "cell_type": "code",
   "execution_count": 4,
   "id": "b140f8da",
   "metadata": {},
   "outputs": [
    {
     "name": "stdout",
     "output_type": "stream",
     "text": [
      "['Cplusplus', 'Java', 'Php', 'Python']\n"
     ]
    }
   ],
   "source": [
    "# 5. Lambda functions\n",
    "\n",
    "\n",
    "language_scores = [('Python', 97), ('Cplusplus', 81), ('Php', 45), ('Java', 32)]\n",
    "language_scores.sort(key=lambda x: x[0])\n",
    "a = []\n",
    "for i in language_scores:\n",
    "    a.append(i[0])\n",
    "print(a)"
   ]
  },
  {
   "cell_type": "code",
   "execution_count": 5,
   "id": "975db17c",
   "metadata": {},
   "outputs": [
    {
     "name": "stdout",
     "output_type": "stream",
     "text": [
      "117649\n"
     ]
    }
   ],
   "source": [
    "# 6. Nested functions\n",
    "\n",
    "\n",
    "def p2(x):\n",
    "    return x*x\n",
    "\n",
    "\n",
    "def p3(x):\n",
    "    return x**3\n",
    "\n",
    "\n",
    "def p6(x):\n",
    "    return p3(x)**2\n",
    "\n",
    "\n",
    "print(p6(7))"
   ]
  },
  {
   "cell_type": "code",
   "execution_count": 7,
   "id": "9170ab45",
   "metadata": {},
   "outputs": [
    {
     "name": "stdout",
     "output_type": "stream",
     "text": [
      "hello world\n",
      "49\n"
     ]
    }
   ],
   "source": [
    "# 7. Decorators\n",
    "\n",
    "\n",
    "def hello(func):\n",
    "    def wrapper(*args, **kwargs):\n",
    "        print(\"hello world\")\n",
    "        return func(*args)\n",
    "    return wrapper\n",
    "\n",
    "\n",
    "@hello\n",
    "def square(x):\n",
    "    return x*x\n",
    "\n",
    "\n",
    "print(square(7))"
   ]
  },
  {
   "cell_type": "code",
   "execution_count": 8,
   "id": "bd80d78d",
   "metadata": {},
   "outputs": [
    {
     "name": "stdout",
     "output_type": "stream",
     "text": [
      "6765\n"
     ]
    }
   ],
   "source": [
    "# 8. The Fibonacci sequence (part 2)\n",
    "\n",
    "\n",
    "def fib(x):\n",
    "    if x < 3:\n",
    "        return 1\n",
    "    else:\n",
    "        # return x-1 + x-2\n",
    "        return fib(x-1) + fib(x-2)\n",
    "\n",
    "print(fib(20))"
   ]
  },
  {
   "cell_type": "code",
   "execution_count": 9,
   "id": "b1a78cc5",
   "metadata": {},
   "outputs": [
    {
     "name": "stdout",
     "output_type": "stream",
     "text": [
      "0.0006656139998995059\n",
      "3.3989999792538583e-06\n"
     ]
    }
   ],
   "source": [
    "# 9. The Fibonacci sequence (part 3)\n",
    "\n",
    "\n",
    "import timeit\n",
    "\n",
    "s_1 = \"\"\"\n",
    "def fib(x):\n",
    "    if x < 3:\n",
    "        return 1\n",
    "    else:\n",
    "        # return x-1 + x-2\n",
    "        return fib(x-1) + fib(x-2)\n",
    "\n",
    "fib(20)\n",
    "\"\"\"\n",
    "s_2 = \"\"\"\n",
    "def fibo(N):\n",
    "    fibonacciSeries = [1, 1]\n",
    "    if N > 2:\n",
    "        for i in range(2, N):\n",
    "            nextOne = fibonacciSeries[i - 1] + fibonacciSeries[i - 2]\n",
    "            fibonacciSeries.append(nextOne)\n",
    "    return nextOne\n",
    "\n",
    "fibo(20)\n",
    "\"\"\"\n",
    "\n",
    "print(timeit.timeit(stmt=s_1, number=1))\n",
    "print(timeit.timeit(stmt=s_2, number=1))"
   ]
  },
  {
   "cell_type": "code",
   "execution_count": 10,
   "id": "1d4bf0c3",
   "metadata": {},
   "outputs": [
    {
     "name": "stdout",
     "output_type": "stream",
     "text": [
      "(9, 8, 7, 6)\n",
      "The perimeter is : 30\n",
      "The orderedsides are: [6, 7, 8, 9]\n"
     ]
    }
   ],
   "source": [
    "# 10. Class definition\n",
    "\n",
    "\n",
    "class polygon:\n",
    "    x = tuple()\n",
    "\n",
    "    def __init__(self, components):\n",
    "        if len(components) < 3:\n",
    "            raise Exception()\n",
    "\n",
    "        self.x = components\n",
    "        print(components)\n",
    "\n",
    "    def perimeter(self):\n",
    "        return sum(self.x)\n",
    "\n",
    "    def getorderedSides(self, increasing=True):\n",
    "        list_1 = []\n",
    "        for i in range(len(self.x)):\n",
    "            list_1.append(self.x[i])\n",
    "        if increasing:\n",
    "            list_1.sort()\n",
    "            return list_1\n",
    "        else:\n",
    "            list_1.sort(reverse=True)\n",
    "            return list_1\n",
    "\n",
    "\n",
    "a = polygon((9, 8, 7, 6))\n",
    "\n",
    "print(\"The perimeter is :\", a.perimeter())\n",
    "print(\"The orderedsides are:\", a.getorderedSides(increasing=True))"
   ]
  },
  {
   "cell_type": "code",
   "execution_count": 13,
   "id": "ddffb39e",
   "metadata": {},
   "outputs": [
    {
     "name": "stdout",
     "output_type": "stream",
     "text": [
      "The area is :  72\n"
     ]
    }
   ],
   "source": [
    "# 11. Class inheritance\n",
    "\n",
    "\n",
    "class polygon:\n",
    "    x = tuple()\n",
    "\n",
    "    def __init__(self, components):\n",
    "        self.x = components\n",
    "        print(components)\n",
    "\n",
    "    def perimeter(self):\n",
    "        s2 = 0\n",
    "        for i in range(len(self.x)):\n",
    "            s2 += self.x[i]\n",
    "        return (s2)\n",
    "\n",
    "    def getorderedSides(self, increasing=True):\n",
    "        list_1 = []\n",
    "        for i in range(len(self.x)):\n",
    "            list_1.append(self.x[i])\n",
    "        list_1.sort()\n",
    "        return (list_1)\n",
    "\n",
    "\n",
    "class rectangle(polygon):\n",
    "    def __init__(self, components):\n",
    "        if len(components) == 2:\n",
    "            self.x = components\n",
    "        else:\n",
    "            raise Exception(\"Error: This is not rectangle!!!\")\n",
    "\n",
    "    def area(self):\n",
    "        return (max(self.x) * min(self.x))\n",
    "    \n",
    "    \n",
    "a = rectangle((12,6))\n",
    "\n",
    "print(\"The area is : \", a.area())"
   ]
  },
  {
   "cell_type": "code",
   "execution_count": null,
   "id": "09401575",
   "metadata": {},
   "outputs": [],
   "source": []
  }
 ],
 "metadata": {
  "kernelspec": {
   "display_name": "Python 3 (ipykernel)",
   "language": "python",
   "name": "python3"
  },
  "language_info": {
   "codemirror_mode": {
    "name": "ipython",
    "version": 3
   },
   "file_extension": ".py",
   "mimetype": "text/x-python",
   "name": "python",
   "nbconvert_exporter": "python",
   "pygments_lexer": "ipython3",
   "version": "3.9.12"
  }
 },
 "nbformat": 4,
 "nbformat_minor": 5
}
