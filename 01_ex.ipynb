{
 "cells": [
  {
   "cell_type": "markdown",
   "id": "eb4fe5f9",
   "metadata": {},
   "source": [
    "# 01ex_introduction"
   ]
  },
  {
   "cell_type": "code",
   "execution_count": 1,
   "id": "ee4a5f00",
   "metadata": {},
   "outputs": [
    {
     "name": "stdout",
     "output_type": "stream",
     "text": [
      "1\n",
      "2\n",
      "Hello\n",
      "4\n",
      "World\n",
      "Hello\n",
      "7\n",
      "8\n",
      "Hello\n",
      "World\n",
      "11\n",
      "Hello\n",
      "13\n",
      "14\n",
      "HelloWorld\n",
      "16\n",
      "17\n",
      "Hello\n",
      "19\n",
      "World\n",
      "Hello\n",
      "22\n",
      "23\n",
      "Hello\n",
      "World\n",
      "26\n",
      "Hello\n",
      "28\n",
      "29\n",
      "HelloWorld\n",
      "31\n",
      "32\n",
      "Hello\n",
      "34\n",
      "World\n",
      "Hello\n",
      "37\n",
      "38\n",
      "Hello\n",
      "World\n",
      "41\n",
      "Hello\n",
      "43\n",
      "44\n",
      "HelloWorld\n",
      "46\n",
      "47\n",
      "Hello\n",
      "49\n",
      "World\n",
      "Hello\n",
      "52\n",
      "53\n",
      "Hello\n",
      "World\n",
      "56\n",
      "Hello\n",
      "58\n",
      "59\n",
      "HelloWorld\n",
      "61\n",
      "62\n",
      "Hello\n",
      "64\n",
      "World\n",
      "Hello\n",
      "67\n",
      "68\n",
      "Hello\n",
      "World\n",
      "71\n",
      "Hello\n",
      "73\n",
      "74\n",
      "HelloWorld\n",
      "76\n",
      "77\n",
      "Hello\n",
      "79\n",
      "World\n",
      "Hello\n",
      "82\n",
      "83\n",
      "Hello\n",
      "World\n",
      "86\n",
      "Hello\n",
      "88\n",
      "89\n",
      "HelloWorld\n",
      "91\n",
      "92\n",
      "Hello\n",
      "94\n",
      "World\n",
      "Hello\n",
      "97\n",
      "98\n",
      "Hello\n",
      "World\n",
      "1\n",
      "2\n",
      "python\n",
      "4\n",
      "Works\n",
      "python\n",
      "7\n",
      "8\n",
      "python\n",
      "Works\n",
      "11\n",
      "python\n",
      "13\n",
      "14\n",
      "HelloWorld\n",
      "16\n",
      "17\n",
      "python\n",
      "19\n",
      "Works\n",
      "python\n",
      "22\n",
      "23\n",
      "python\n",
      "Works\n",
      "26\n",
      "python\n",
      "28\n",
      "29\n",
      "HelloWorld\n",
      "31\n",
      "32\n",
      "python\n",
      "34\n",
      "Works\n",
      "python\n",
      "37\n",
      "38\n",
      "python\n",
      "Works\n",
      "41\n",
      "python\n",
      "43\n",
      "44\n",
      "HelloWorld\n",
      "46\n",
      "47\n",
      "python\n",
      "49\n",
      "Works\n",
      "python\n",
      "52\n",
      "53\n",
      "python\n",
      "Works\n",
      "56\n",
      "python\n",
      "58\n",
      "59\n",
      "HelloWorld\n",
      "61\n",
      "62\n",
      "python\n",
      "64\n",
      "Works\n",
      "python\n",
      "67\n",
      "68\n",
      "python\n",
      "Works\n",
      "71\n",
      "python\n",
      "73\n",
      "74\n",
      "HelloWorld\n",
      "76\n",
      "77\n",
      "python\n",
      "79\n",
      "Works\n",
      "python\n",
      "82\n",
      "83\n",
      "python\n",
      "Works\n",
      "86\n",
      "python\n",
      "88\n",
      "89\n",
      "HelloWorld\n",
      "91\n",
      "92\n",
      "python\n",
      "94\n",
      "Works\n",
      "python\n",
      "97\n",
      "98\n",
      "python\n",
      "Works\n"
     ]
    }
   ],
   "source": [
    "# 1. The HelloWorld replacement\n",
    "\n",
    "a1 = []\n",
    "for number in range(1, 101):\n",
    "    if number % 3 == 0 and number % 5 == 0:\n",
    "        print(\"HelloWorld\")\n",
    "        a1.append(\"HelloWorld\")\n",
    "    elif number % 3 == 0:\n",
    "        print(\"Hello\")\n",
    "        a1.append(\"Hello\")\n",
    "    elif number % 5 == 0:\n",
    "        print(\"World\")\n",
    "        a1.append(\"World\")\n",
    "    else:\n",
    "        print(number)\n",
    "        a1.append(number)\n",
    "\n",
    "for item in range(len(a1)):\n",
    "    if a1[item] == 'Hello':\n",
    "        a1[item] = \"python\"\n",
    "    elif a1[item] == 'World':\n",
    "        a1[item] = \"Works\"\n",
    "\n",
    "b = tuple(a1)\n",
    "for i in range(len(b)):\n",
    "    print(b[i])"
   ]
  },
  {
   "cell_type": "code",
   "execution_count": 2,
   "id": "d15d8cc0",
   "metadata": {},
   "outputs": [
    {
     "name": "stdout",
     "output_type": "stream",
     "text": [
      "('Hosseinishamoushaki', 'Seyedali')\n"
     ]
    }
   ],
   "source": [
    "# 2. The swap\n",
    "\n",
    "def swap_func(x, y):\n",
    "    x, y = y, x\n",
    "    return x, y\n",
    "\n",
    "print(swap_func(\"Seyedali\", \"Hosseinishamoushaki\"))"
   ]
  },
  {
   "cell_type": "code",
   "execution_count": 4,
   "id": "84961145",
   "metadata": {},
   "outputs": [
    {
     "name": "stdout",
     "output_type": "stream",
     "text": [
      "distance between two points: 11.40175425099138\n"
     ]
    }
   ],
   "source": [
    "# 3. Computing the distance\n",
    "\n",
    "\n",
    "import math\n",
    "\n",
    "\n",
    "def calculate_distance(d1, d2):\n",
    "    (x1, y1) = d1\n",
    "    (x2, y2) = d2\n",
    "    d = math.sqrt((x2 - x1) ** 2 + (y2 - y1) ** 2)\n",
    "    print(f\"distance between two points: {d}\")\n",
    "\n",
    "\n",
    "calculate_distance((7, 0), (0, 9))"
   ]
  },
  {
   "cell_type": "code",
   "execution_count": 5,
   "id": "89a0356d",
   "metadata": {},
   "outputs": [
    {
     "name": "stdout",
     "output_type": "stream",
     "text": [
      "{'w': 4, 'r': 19, 'i': 12, 't': 19, 'e': 20, ' ': 41, 'a': 7, 'p': 41, 'o': 8, 'g': 19, 'm': 15, 'h': 1, 'n': 19, 's': 7, 'u': 8, 'b': 41, 'f': 19, '1': 11, '0': 7, '.': 19, 'l': 41, 'd': 8, 'v': 19, 'c': 12}\n",
      "{'t': 2, 'h': 2, 'e': 3, ' ': 8, 'q': 1, 'u': 2, 'i': 1, 'c': 1, 'k': 1, 'b': 8, 'r': 1, 'o': 2, 'w': 4, 'n': 1, 'f': 1, 'x': 8, 'j': 1, 'm': 4, 'p': 1, 's': 8, 'v': 1, 'l': 2, 'a': 1, 'z': 1, 'y': 1, 'd': 8, 'g': 4}\n"
     ]
    }
   ],
   "source": [
    "# 4. Counting letters\n",
    "\n",
    "\n",
    "s1 = \"Write a program that prints the numbers from 1 to 100. \\\n",
    "But for multiples of three print Hello instead of the number and for the multiples of five print World. \\\n",
    "For numbers which are multiples of both three and five print HelloWorld.\"\n",
    "s2 = \"The quick brown fox jumps over the lazy dog\"\n",
    "\n",
    "\n",
    "def counter(string):\n",
    "    char_list = []\n",
    "    count_char = {}\n",
    "\n",
    "    string = string.lower()\n",
    "\n",
    "    for i in range(len(string)):    \n",
    "        if string[i] not in char_list:\n",
    "            char_list.append(string[i])\n",
    "\n",
    "        elif string[i] in char_list:\n",
    "            pass\n",
    "\n",
    "    for i in range(len(char_list)):\n",
    "        count_char[char_list[i]] = string.count(string[i])\n",
    "\n",
    "    return count_char\n",
    "\n",
    "\n",
    "print(counter(s1))\n",
    "print(counter(s2))"
   ]
  },
  {
   "cell_type": "code",
   "execution_count": 6,
   "id": "fc918b88",
   "metadata": {},
   "outputs": [
    {
     "name": "stdout",
     "output_type": "stream",
     "text": [
      "Unique number count of the list: 54\n",
      "New list: [36, 45, 58, 3, 74, 96, 64, 31, 10, 24, 19, 33, 86, 99, 18, 63, 70, 85, 47, 56, 42, 84, 88, 55, 20, 54, 8, 51, 79, 81, 57, 37, 91, 1, 66, 9, 89, 50, 95, 90, 98, 39, 16, 82, 92, 41, 30, 34, 94, 5, 72, 87, 75, 53]\n"
     ]
    }
   ],
   "source": [
    "# 5. Isolating the unique\n",
    "\n",
    "\n",
    "L = [36, 45, 58, 3, 74, 96, 64, 45, 31, 10, 24, 19, 33, 86, 99, 18, 63, 70, 85, 85, 63, 47, 56, 42, 70, 84, 88, 55, 20,\n",
    "     54, 8, 56, 51, 79, 81, 57, 37, 91, 1, 84, 84, 36, 66, 9, 89, 50, 42, 91, 50, 95, 90, 98, 39, 16, 82, 31, 92, 41,\n",
    "     45, 30, 66, 70, 34, 85, 94, 5, 3, 36, 72, 91, 84, 34, 87, 75, 53, 51, 20, 89, 51, 20]\n",
    "\n",
    "\n",
    "def unique_isolator(N):\n",
    "    tem = []\n",
    "    for item in N:\n",
    "        if item not in tem:\n",
    "            tem.append(item)\n",
    "    return len(tem), tem\n",
    "\n",
    "\n",
    "print(\"Unique number count of the list: \" + str(unique_isolator(L)[0]))\n",
    "print(\"New list: \" + str(unique_isolator(L)[1]))"
   ]
  },
  {
   "cell_type": "code",
   "execution_count": 7,
   "id": "a089b1e4",
   "metadata": {},
   "outputs": [
    {
     "name": "stdout",
     "output_type": "stream",
     "text": [
      "1st : 5\n",
      "2st: a\n",
      "Unacceptable\n"
     ]
    }
   ],
   "source": [
    "# 6. Casting\n",
    "\n",
    "\n",
    "a = input(\"1st : \")\n",
    "b = input(\"2st: \")\n",
    "\n",
    "try:\n",
    "    if a.isalpha() and b.isalpha() == 1:\n",
    "        z = str(a) + str(b)\n",
    "        print(z)\n",
    "    else:\n",
    "        if a.isnumeric() and b.isnumeric() == 1:\n",
    "            z = int(a) + int(b)\n",
    "            print(z)\n",
    "        else:\n",
    "            z = float(a) + float(b)\n",
    "            print(z)\n",
    "\n",
    "except:\n",
    "    z = \"Unacceptable\"\n",
    "    print(z)"
   ]
  },
  {
   "cell_type": "code",
   "execution_count": 8,
   "id": "9b63a3b5",
   "metadata": {},
   "outputs": [
    {
     "name": "stdout",
     "output_type": "stream",
     "text": [
      "[0, 1, 4, 9, 16, 25, 36, 49, 64, 81, 100]\n",
      "[0, 1, 4, 9, 16, 25, 36, 49, 64, 81, 100]\n"
     ]
    }
   ],
   "source": [
    "# 7. Cubes\n",
    "\n",
    "\n",
    "# a) for loop\n",
    "\n",
    "list_a = []\n",
    "for i in range(0, 11):\n",
    "    list_a.append(i ** 2)\n",
    "print(list_a)\n",
    "\n",
    "\n",
    "# b) list comprehension\n",
    "\n",
    "list_b = [i ** 2 for i in range(0, 11)]\n",
    "print(list_b)"
   ]
  },
  {
   "cell_type": "code",
   "execution_count": 9,
   "id": "d0debef4",
   "metadata": {},
   "outputs": [
    {
     "name": "stdout",
     "output_type": "stream",
     "text": [
      "[(0, 0), (0, 1), (0, 2), (0, 3), (1, 0), (1, 1), (1, 2), (1, 3), (2, 0), (2, 1), (2, 2), (2, 3)]\n"
     ]
    }
   ],
   "source": [
    "# 8. List comprehension\n",
    "\n",
    "\n",
    "a2 = [(i, j) for i in range(3) for j in range(4)]\n",
    "print(a2)"
   ]
  },
  {
   "cell_type": "code",
   "execution_count": 11,
   "id": "fa6777d2",
   "metadata": {},
   "outputs": [
    {
     "name": "stdout",
     "output_type": "stream",
     "text": [
      "[(3, 4, 5), (4, 3, 5), (5, 12, 13), (6, 8, 10), (7, 24, 25), (8, 6, 10), (8, 15, 17), (9, 12, 15), (9, 40, 41), (10, 24, 26), (11, 60, 61), (12, 5, 13), (12, 9, 15), (12, 16, 20), (12, 35, 37), (13, 84, 85), (14, 48, 50), (15, 8, 17), (15, 20, 25), (15, 36, 39), (16, 12, 20), (16, 30, 34), (16, 63, 65), (18, 24, 30), (18, 80, 82), (20, 15, 25), (20, 21, 29), (20, 48, 52), (21, 20, 29), (21, 28, 35), (21, 72, 75), (24, 7, 25), (24, 10, 26), (24, 18, 30), (24, 32, 40), (24, 45, 51), (24, 70, 74), (25, 60, 65), (27, 36, 45), (28, 21, 35), (28, 45, 53), (28, 96, 100), (30, 16, 34), (30, 40, 50), (30, 72, 78), (32, 24, 40), (32, 60, 68), (33, 44, 55), (33, 56, 65), (35, 12, 37), (35, 84, 91), (36, 15, 39), (36, 27, 45), (36, 48, 60), (36, 77, 85), (39, 52, 65), (39, 80, 89), (40, 9, 41), (40, 30, 50), (40, 42, 58), (40, 75, 85), (42, 40, 58), (42, 56, 70), (44, 33, 55), (45, 24, 51), (45, 28, 53), (45, 60, 75), (48, 14, 50), (48, 20, 52), (48, 36, 60), (48, 55, 73), (48, 64, 80), (51, 68, 85), (52, 39, 65), (54, 72, 90), (55, 48, 73), (56, 33, 65), (56, 42, 70), (57, 76, 95), (60, 11, 61), (60, 25, 65), (60, 32, 68), (60, 45, 75), (60, 63, 87), (60, 80, 100), (63, 16, 65), (63, 60, 87), (64, 48, 80), (65, 72, 97), (68, 51, 85), (70, 24, 74), (72, 21, 75), (72, 30, 78), (72, 54, 90), (72, 65, 97), (75, 40, 85), (76, 57, 95), (77, 36, 85), (80, 18, 82), (80, 39, 89), (80, 60, 100), (84, 13, 85), (84, 35, 91), (96, 28, 100)]\n"
     ]
    }
   ],
   "source": [
    "# 9. Nested list comprehension\n",
    "\n",
    "\n",
    "Nested_list = [(a, b, c) for a in range(1, 101)\n",
    "               for b in range(1, 101)\n",
    "               for c in range(1, 101)\n",
    "               if a ** 2 + b ** 2 == c ** 2]\n",
    "\n",
    "print(Nested_list)"
   ]
  },
  {
   "cell_type": "code",
   "execution_count": 12,
   "id": "dad8621b",
   "metadata": {},
   "outputs": [
    {
     "name": "stdout",
     "output_type": "stream",
     "text": [
      "[1, 1, 2, 3, 5, 8, 13, 21, 34, 55, 89, 144, 233, 377, 610, 987, 1597, 2584, 4181, 6765]\n"
     ]
    }
   ],
   "source": [
    "# 11. The Fibonacci sequence\n",
    "\n",
    "\n",
    "n = 20\n",
    "fibonacciSeries = [1, 1]\n",
    "if n > 2:\n",
    "    for i in range(2, n):\n",
    "        nextOne = fibonacciSeries[i - 1] + fibonacciSeries[i - 2]\n",
    "        fibonacciSeries.append(nextOne)\n",
    "\n",
    "print(fibonacciSeries)"
   ]
  },
  {
   "cell_type": "code",
   "execution_count": null,
   "id": "a3c83fb3",
   "metadata": {},
   "outputs": [],
   "source": []
  }
 ],
 "metadata": {
  "kernelspec": {
   "display_name": "Python 3 (ipykernel)",
   "language": "python",
   "name": "python3"
  },
  "language_info": {
   "codemirror_mode": {
    "name": "ipython",
    "version": 3
   },
   "file_extension": ".py",
   "mimetype": "text/x-python",
   "name": "python",
   "nbconvert_exporter": "python",
   "pygments_lexer": "ipython3",
   "version": "3.9.12"
  }
 },
 "nbformat": 4,
 "nbformat_minor": 5
}
